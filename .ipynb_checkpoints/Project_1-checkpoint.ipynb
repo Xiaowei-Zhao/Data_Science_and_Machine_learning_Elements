{
 "cells": [
  {
   "cell_type": "code",
   "execution_count": 1,
   "metadata": {},
   "outputs": [],
   "source": [
    "import pandas as pd\n",
    "import numpy as np\n",
    "import seaborn as sns\n",
    "import matplotlib.pyplot as plt\n",
    "\n",
    "# tell jupyter to display images in the notebook\n",
    "%matplotlib inline\n",
    "\n",
    "# for pretty printing\n",
    "import pprint\n",
    "\n",
    "# To suppress FutureWarnings\n",
    "import warnings\n",
    "warnings.simplefilter(action='ignore', category=FutureWarning)\n",
    "\n",
    "# To increase the number of rows pandas will print before truncation\n",
    "pd.set_option('display.max_rows', 500)\n",
    "\n",
    "# To increase the number of columns pandas will print before truncation\n",
    "pd.set_option('display.max_columns', 100)\n",
    "\n",
    "# To increase the width of each column pandas will print before truncating.\n",
    "pd.set_option('display.max_colwidth',100)"
   ]
  },
  {
   "cell_type": "markdown",
   "metadata": {},
   "source": [
    "---"
   ]
  },
  {
   "cell_type": "markdown",
   "metadata": {},
   "source": [
    "## Part 1: College Football Dataset and total_score\n",
    "\n",
    "Fall is college football season, so we'll first look at some data from the 2017 college football season.  \n",
    "This data was gathered from 'http://sports.snoozle.net/'.\n",
    "\n",
    "We'd like to find the total score for each game and the min, max and mean of the total scores.\n",
    "\n",
    "In this dataset, each row contains information about a single game, visiting team info followed by home team.  \n",
    "We'll need to combine two columns to find the total number of points.\n",
    "\n",
    "This csv contains columns with duplicate names.\n",
    "When there are columns with identical names, pandas attaches a suffix to discriminate them.  \n",
    "All 'Home Team' columns will have a '.1' suffix."
   ]
  },
  {
   "cell_type": "code",
   "execution_count": 2,
   "metadata": {},
   "outputs": [],
   "source": [
    "# Load the data from ../data/cfb_2017.csv into the variable df_cfb\n",
    "df_cfb = pd.read_csv('../data/cfb_2017.csv')"
   ]
  },
  {
   "cell_type": "code",
   "execution_count": 3,
   "metadata": {},
   "outputs": [
    {
     "data": {
      "text/html": [
       "<div>\n",
       "<style scoped>\n",
       "    .dataframe tbody tr th:only-of-type {\n",
       "        vertical-align: middle;\n",
       "    }\n",
       "\n",
       "    .dataframe tbody tr th {\n",
       "        vertical-align: top;\n",
       "    }\n",
       "\n",
       "    .dataframe thead th {\n",
       "        text-align: right;\n",
       "    }\n",
       "</style>\n",
       "<table border=\"1\" class=\"dataframe\">\n",
       "  <thead>\n",
       "    <tr style=\"text-align: right;\">\n",
       "      <th></th>\n",
       "      <th>Date</th>\n",
       "      <th>Vis Team</th>\n",
       "      <th>Rushing Yards</th>\n",
       "      <th>Rushing Attempts</th>\n",
       "      <th>Passing Yards</th>\n",
       "      <th>Passing Attempts</th>\n",
       "      <th>Passing Completions</th>\n",
       "      <th>Penalties</th>\n",
       "      <th>Penalty Yards</th>\n",
       "      <th>Fumbles Lost</th>\n",
       "      <th>Interceptions Thrown</th>\n",
       "      <th>1st Downs</th>\n",
       "      <th>3rd Down Attempts</th>\n",
       "      <th>3rd Down Conversions</th>\n",
       "      <th>4th Down Attempts</th>\n",
       "      <th>4th Down conversions</th>\n",
       "      <th>Time of Possession</th>\n",
       "      <th>Score</th>\n",
       "      <th>Home Team</th>\n",
       "      <th>Rushing Yards.1</th>\n",
       "      <th>Rushing Attempts.1</th>\n",
       "      <th>Passing Yards.1</th>\n",
       "      <th>Passing Attempts.1</th>\n",
       "      <th>Passing Completions.1</th>\n",
       "      <th>Penalties.1</th>\n",
       "      <th>Penalty Yards.1</th>\n",
       "      <th>Fumbles Lost.1</th>\n",
       "      <th>Interceptions Thrown.1</th>\n",
       "      <th>1st Downs.1</th>\n",
       "      <th>3rd Down Attempts.1</th>\n",
       "      <th>3rd Down Conversions.1</th>\n",
       "      <th>4th Down Attempts.1</th>\n",
       "      <th>4th Down conversions.1</th>\n",
       "      <th>Time of Possession.1</th>\n",
       "      <th>Score.1</th>\n",
       "    </tr>\n",
       "  </thead>\n",
       "  <tbody>\n",
       "    <tr>\n",
       "      <th>0</th>\n",
       "      <td>2017-08-26</td>\n",
       "      <td>Portland State</td>\n",
       "      <td>86</td>\n",
       "      <td>36</td>\n",
       "      <td>134</td>\n",
       "      <td>36</td>\n",
       "      <td>16</td>\n",
       "      <td>7</td>\n",
       "      <td>70</td>\n",
       "      <td>0</td>\n",
       "      <td>1</td>\n",
       "      <td>14</td>\n",
       "      <td>19</td>\n",
       "      <td>7</td>\n",
       "      <td>4</td>\n",
       "      <td>2</td>\n",
       "      <td>1821</td>\n",
       "      <td>6</td>\n",
       "      <td>BYU</td>\n",
       "      <td>171</td>\n",
       "      <td>35</td>\n",
       "      <td>194</td>\n",
       "      <td>27</td>\n",
       "      <td>16</td>\n",
       "      <td>7</td>\n",
       "      <td>70</td>\n",
       "      <td>0</td>\n",
       "      <td>0</td>\n",
       "      <td>13</td>\n",
       "      <td>13</td>\n",
       "      <td>4</td>\n",
       "      <td>1</td>\n",
       "      <td>0</td>\n",
       "      <td>1779</td>\n",
       "      <td>20</td>\n",
       "    </tr>\n",
       "    <tr>\n",
       "      <th>1</th>\n",
       "      <td>2017-08-26</td>\n",
       "      <td>USF</td>\n",
       "      <td>315</td>\n",
       "      <td>74</td>\n",
       "      <td>233</td>\n",
       "      <td>26</td>\n",
       "      <td>13</td>\n",
       "      <td>10</td>\n",
       "      <td>57</td>\n",
       "      <td>0</td>\n",
       "      <td>0</td>\n",
       "      <td>29</td>\n",
       "      <td>19</td>\n",
       "      <td>3</td>\n",
       "      <td>3</td>\n",
       "      <td>3</td>\n",
       "      <td>2190</td>\n",
       "      <td>42</td>\n",
       "      <td>San Jose State</td>\n",
       "      <td>109</td>\n",
       "      <td>38</td>\n",
       "      <td>278</td>\n",
       "      <td>50</td>\n",
       "      <td>25</td>\n",
       "      <td>9</td>\n",
       "      <td>64</td>\n",
       "      <td>0</td>\n",
       "      <td>3</td>\n",
       "      <td>18</td>\n",
       "      <td>21</td>\n",
       "      <td>7</td>\n",
       "      <td>2</td>\n",
       "      <td>1</td>\n",
       "      <td>1410</td>\n",
       "      <td>22</td>\n",
       "    </tr>\n",
       "    <tr>\n",
       "      <th>2</th>\n",
       "      <td>2017-08-26</td>\n",
       "      <td>Oregon State</td>\n",
       "      <td>152</td>\n",
       "      <td>29</td>\n",
       "      <td>304</td>\n",
       "      <td>47</td>\n",
       "      <td>27</td>\n",
       "      <td>3</td>\n",
       "      <td>21</td>\n",
       "      <td>2</td>\n",
       "      <td>3</td>\n",
       "      <td>23</td>\n",
       "      <td>16</td>\n",
       "      <td>10</td>\n",
       "      <td>0</td>\n",
       "      <td>0</td>\n",
       "      <td>1541</td>\n",
       "      <td>27</td>\n",
       "      <td>Colorado State</td>\n",
       "      <td>191</td>\n",
       "      <td>43</td>\n",
       "      <td>334</td>\n",
       "      <td>39</td>\n",
       "      <td>26</td>\n",
       "      <td>8</td>\n",
       "      <td>40</td>\n",
       "      <td>1</td>\n",
       "      <td>1</td>\n",
       "      <td>31</td>\n",
       "      <td>14</td>\n",
       "      <td>8</td>\n",
       "      <td>1</td>\n",
       "      <td>1</td>\n",
       "      <td>2059</td>\n",
       "      <td>58</td>\n",
       "    </tr>\n",
       "  </tbody>\n",
       "</table>\n",
       "</div>"
      ],
      "text/plain": [
       "         Date        Vis Team  Rushing Yards  Rushing Attempts  Passing Yards  \\\n",
       "0  2017-08-26  Portland State             86                36            134   \n",
       "1  2017-08-26             USF            315                74            233   \n",
       "2  2017-08-26    Oregon State            152                29            304   \n",
       "\n",
       "   Passing Attempts  Passing Completions  Penalties  Penalty Yards  \\\n",
       "0                36                   16          7             70   \n",
       "1                26                   13         10             57   \n",
       "2                47                   27          3             21   \n",
       "\n",
       "   Fumbles Lost  Interceptions Thrown  1st Downs  3rd Down Attempts  \\\n",
       "0             0                     1         14                 19   \n",
       "1             0                     0         29                 19   \n",
       "2             2                     3         23                 16   \n",
       "\n",
       "   3rd Down Conversions  4th Down Attempts  4th Down conversions  \\\n",
       "0                     7                  4                     2   \n",
       "1                     3                  3                     3   \n",
       "2                    10                  0                     0   \n",
       "\n",
       "   Time of Possession  Score       Home Team  Rushing Yards.1  \\\n",
       "0                1821      6             BYU              171   \n",
       "1                2190     42  San Jose State              109   \n",
       "2                1541     27  Colorado State              191   \n",
       "\n",
       "   Rushing Attempts.1  Passing Yards.1  Passing Attempts.1  \\\n",
       "0                  35              194                  27   \n",
       "1                  38              278                  50   \n",
       "2                  43              334                  39   \n",
       "\n",
       "   Passing Completions.1  Penalties.1  Penalty Yards.1  Fumbles Lost.1  \\\n",
       "0                     16            7               70               0   \n",
       "1                     25            9               64               0   \n",
       "2                     26            8               40               1   \n",
       "\n",
       "   Interceptions Thrown.1  1st Downs.1  3rd Down Attempts.1  \\\n",
       "0                       0           13                   13   \n",
       "1                       3           18                   21   \n",
       "2                       1           31                   14   \n",
       "\n",
       "   3rd Down Conversions.1  4th Down Attempts.1  4th Down conversions.1  \\\n",
       "0                       4                    1                       0   \n",
       "1                       7                    2                       1   \n",
       "2                       8                    1                       1   \n",
       "\n",
       "   Time of Possession.1  Score.1  \n",
       "0                  1779       20  \n",
       "1                  1410       22  \n",
       "2                  2059       58  "
      ]
     },
     "execution_count": 3,
     "metadata": {},
     "output_type": "execute_result"
    }
   ],
   "source": [
    "# Print the first 3 rows of the dataset using head\n",
    "df_cfb.head(3)"
   ]
  },
  {
   "cell_type": "code",
   "execution_count": 4,
   "metadata": {},
   "outputs": [
    {
     "name": "stdout",
     "output_type": "stream",
     "text": [
      "<class 'pandas.core.frame.DataFrame'>\n",
      "RangeIndex: 999 entries, 0 to 998\n",
      "Data columns (total 35 columns):\n",
      "Date                      999 non-null object\n",
      "Vis Team                  999 non-null object\n",
      "Rushing Yards             999 non-null int64\n",
      "Rushing Attempts          999 non-null int64\n",
      "Passing Yards             999 non-null int64\n",
      "Passing Attempts          999 non-null int64\n",
      "Passing Completions       999 non-null int64\n",
      "Penalties                 999 non-null int64\n",
      "Penalty Yards             999 non-null int64\n",
      "Fumbles Lost              999 non-null int64\n",
      "Interceptions Thrown      999 non-null int64\n",
      "1st Downs                 999 non-null int64\n",
      "3rd Down Attempts         999 non-null int64\n",
      "3rd Down Conversions      999 non-null int64\n",
      "4th Down Attempts         999 non-null int64\n",
      "4th Down conversions      999 non-null int64\n",
      "Time of Possession        999 non-null int64\n",
      "Score                     999 non-null int64\n",
      "Home Team                 999 non-null object\n",
      "Rushing Yards.1           999 non-null int64\n",
      "Rushing Attempts.1        999 non-null int64\n",
      "Passing Yards.1           999 non-null int64\n",
      "Passing Attempts.1        999 non-null int64\n",
      "Passing Completions.1     999 non-null int64\n",
      "Penalties.1               999 non-null int64\n",
      "Penalty Yards.1           999 non-null int64\n",
      "Fumbles Lost.1            999 non-null int64\n",
      "Interceptions Thrown.1    999 non-null int64\n",
      "1st Downs.1               999 non-null int64\n",
      "3rd Down Attempts.1       999 non-null int64\n",
      "3rd Down Conversions.1    999 non-null int64\n",
      "4th Down Attempts.1       999 non-null int64\n",
      "4th Down conversions.1    999 non-null int64\n",
      "Time of Possession.1      999 non-null int64\n",
      "Score.1                   999 non-null int64\n",
      "dtypes: int64(32), object(3)\n",
      "memory usage: 273.2+ KB\n"
     ]
    }
   ],
   "source": [
    "# print out information about the dataframe using .info()\n",
    "df_cfb.info()"
   ]
  },
  {
   "cell_type": "code",
   "execution_count": 5,
   "metadata": {},
   "outputs": [
    {
     "name": "stdout",
     "output_type": "stream",
     "text": [
      "dataframe has 999 records\n"
     ]
    }
   ],
   "source": [
    "# How may records are in the dataset?\n",
    "print('dataframe has {} records'.format(len(df_cfb)))"
   ]
  },
  {
   "cell_type": "code",
   "execution_count": 6,
   "metadata": {},
   "outputs": [
    {
     "name": "stdout",
     "output_type": "stream",
     "text": [
      "there are 0 missing scores\n"
     ]
    }
   ],
   "source": [
    "# How many values are missing from the Score and Score.1 columns?\n",
    "print('there are {} missing scores'.format(sum(df_cfb.Score.isnull())+sum(df_cfb.loc[:,'Score.1'].isnull())))"
   ]
  },
  {
   "cell_type": "code",
   "execution_count": 7,
   "metadata": {},
   "outputs": [
    {
     "name": "stdout",
     "output_type": "stream",
     "text": [
      "the mean visiting team score is 24.87\n"
     ]
    }
   ],
   "source": [
    "# What is the average (mean) score for visiting teams?\n",
    "print('the mean visiting team score is {:0.2f}'.format(df_cfb.Score.mean()))"
   ]
  },
  {
   "cell_type": "code",
   "execution_count": 8,
   "metadata": {},
   "outputs": [],
   "source": [
    "# To examine the total score, we need to combine Score and Score.1\n",
    "# Create a new column called 'total_score' which is the sum of the 'Score' and 'Score.1' columns\n",
    "df_cfb['total_score'] = df_cfb.Score + df_cfb['Score.1']"
   ]
  },
  {
   "cell_type": "code",
   "execution_count": 9,
   "metadata": {},
   "outputs": [
    {
     "name": "stdout",
     "output_type": "stream",
     "text": [
      "the mean total score is 55.98\n"
     ]
    }
   ],
   "source": [
    "# What is the average (mean) total score?\n",
    "print('the mean total score is {:0.2f}'.format(df_cfb.total_score.mean()))"
   ]
  },
  {
   "cell_type": "code",
   "execution_count": 10,
   "metadata": {},
   "outputs": [
    {
     "data": {
      "text/plain": [
       "count    999.000000\n",
       "mean      55.977978\n",
       "std       18.671603\n",
       "min        6.000000\n",
       "25%       43.000000\n",
       "50%       55.000000\n",
       "75%       67.000000\n",
       "max      139.000000\n",
       "Name: total_score, dtype: float64"
      ]
     },
     "execution_count": 10,
     "metadata": {},
     "output_type": "execute_result"
    }
   ],
   "source": [
    "# Use .describe to show other values associated with total score\n",
    "df_cfb.total_score.describe()"
   ]
  },
  {
   "cell_type": "code",
   "execution_count": 11,
   "metadata": {},
   "outputs": [
    {
     "name": "stdout",
     "output_type": "stream",
     "text": [
      "the minimum and maximum values are 6 and 139\n"
     ]
    }
   ],
   "source": [
    "# what are the min and max values for total_score?\n",
    "print('the minimum and maximum values are {} and {}'.format(6,139))"
   ]
  },
  {
   "cell_type": "code",
   "execution_count": 12,
   "metadata": {},
   "outputs": [
    {
     "data": {
      "text/html": [
       "<div>\n",
       "<style scoped>\n",
       "    .dataframe tbody tr th:only-of-type {\n",
       "        vertical-align: middle;\n",
       "    }\n",
       "\n",
       "    .dataframe tbody tr th {\n",
       "        vertical-align: top;\n",
       "    }\n",
       "\n",
       "    .dataframe thead th {\n",
       "        text-align: right;\n",
       "    }\n",
       "</style>\n",
       "<table border=\"1\" class=\"dataframe\">\n",
       "  <thead>\n",
       "    <tr style=\"text-align: right;\">\n",
       "      <th></th>\n",
       "      <th>Vis Team</th>\n",
       "      <th>Score</th>\n",
       "      <th>Home Team</th>\n",
       "      <th>Score.1</th>\n",
       "    </tr>\n",
       "  </thead>\n",
       "  <tbody>\n",
       "    <tr>\n",
       "      <th>354</th>\n",
       "      <td>W Michigan</td>\n",
       "      <td>71</td>\n",
       "      <td>Buffalo</td>\n",
       "      <td>68</td>\n",
       "    </tr>\n",
       "  </tbody>\n",
       "</table>\n",
       "</div>"
      ],
      "text/plain": [
       "       Vis Team  Score Home Team  Score.1\n",
       "354  W Michigan     71   Buffalo       68"
      ]
     },
     "execution_count": 12,
     "metadata": {},
     "output_type": "execute_result"
    }
   ],
   "source": [
    "# What were the team names and team scores for the game with the highest total score?\n",
    "# We should see a single row with the columns: Vis Team, Score, Home Team, Score.1\n",
    "df_cfb[df_cfb.total_score == df_cfb.total_score.max()][['Vis Team','Score','Home Team','Score.1']]"
   ]
  },
  {
   "cell_type": "code",
   "execution_count": 13,
   "metadata": {},
   "outputs": [
    {
     "data": {
      "image/png": "[encoded data removed]",
      "text/plain": [
       "<Figure size 432x288 with 1 Axes>"
      ]
     },
     "metadata": {
      "needs_background": "light"
     },
     "output_type": "display_data"
    }
   ],
   "source": [
    "# Use seaborn distplot to plot the distribution of total_score\n",
    "# Turn on rug to show each game's total score\n",
    "_ = sns.distplot(df_cfb.total_score, rug=True)"
   ]
  },
  {
   "cell_type": "markdown",
   "metadata": {},
   "source": [
    "---"
   ]
  },
  {
   "cell_type": "markdown",
   "metadata": {},
   "source": [
    "## Part 2: World Bank Data\n",
    "\n",
    "This data is provided by World Bank Open Data https://data.worldbank.org/.\n",
    "\n",
    "It includes many country data indicators sampled over time.\n",
    "\n",
    "There are two files we are interested in:\n",
    "1. WDICountry.csv includes country and region information, one country or region per row.\n",
    "2. WDIData.csv includes indicator data, one row per country and indicator.\n",
    "\n",
    "We would like to be able to analyze a few indicators for countries grouped by region.  \n",
    "To do that we will need to clean and join the two sets of records."
   ]
  },
  {
   "cell_type": "markdown",
   "metadata": {},
   "source": [
    "---"
   ]
  },
  {
   "cell_type": "markdown",
   "metadata": {},
   "source": [
    "### Part 2a: Munge WDICountry"
   ]
  },
  {
   "cell_type": "code",
   "execution_count": 14,
   "metadata": {},
   "outputs": [
    {
     "name": "stdout",
     "output_type": "stream",
     "text": [
      "df_country has 263 rows\n"
     ]
    }
   ],
   "source": [
    "# Read Country information from '../data/WDICountry.csv' into df_country\n",
    "# print the number of rows in df_country\n",
    "df_country = pd.read_csv('../data/WDICountry.csv')\n",
    "print('df_country has {} rows'.format(len(df_country)))"
   ]
  },
  {
   "cell_type": "code",
   "execution_count": 15,
   "metadata": {},
   "outputs": [
    {
     "data": {
      "text/html": [
       "<div>\n",
       "<style scoped>\n",
       "    .dataframe tbody tr th:only-of-type {\n",
       "        vertical-align: middle;\n",
       "    }\n",
       "\n",
       "    .dataframe tbody tr th {\n",
       "        vertical-align: top;\n",
       "    }\n",
       "\n",
       "    .dataframe thead th {\n",
       "        text-align: right;\n",
       "    }\n",
       "</style>\n",
       "<table border=\"1\" class=\"dataframe\">\n",
       "  <thead>\n",
       "    <tr style=\"text-align: right;\">\n",
       "      <th></th>\n",
       "      <th>Country Code</th>\n",
       "      <th>Short Name</th>\n",
       "      <th>Table Name</th>\n",
       "      <th>Long Name</th>\n",
       "      <th>2-alpha code</th>\n",
       "      <th>Currency Unit</th>\n",
       "      <th>Special Notes</th>\n",
       "      <th>Region</th>\n",
       "      <th>Income Group</th>\n",
       "      <th>WB-2 code</th>\n",
       "      <th>National accounts base year</th>\n",
       "      <th>National accounts reference year</th>\n",
       "      <th>SNA price valuation</th>\n",
       "      <th>Lending category</th>\n",
       "      <th>Other groups</th>\n",
       "      <th>System of National Accounts</th>\n",
       "      <th>Alternative conversion factor</th>\n",
       "      <th>PPP survey year</th>\n",
       "      <th>Balance of Payments Manual in use</th>\n",
       "      <th>External debt Reporting status</th>\n",
       "      <th>System of trade</th>\n",
       "      <th>Government Accounting concept</th>\n",
       "      <th>IMF data dissemination standard</th>\n",
       "      <th>Latest population census</th>\n",
       "      <th>Latest household survey</th>\n",
       "      <th>Source of most recent Income and expenditure data</th>\n",
       "      <th>Vital registration complete</th>\n",
       "      <th>Latest agricultural census</th>\n",
       "      <th>Latest industrial data</th>\n",
       "      <th>Latest trade data</th>\n",
       "      <th>Latest water withdrawal data</th>\n",
       "      <th>Unnamed: 31</th>\n",
       "    </tr>\n",
       "  </thead>\n",
       "  <tbody>\n",
       "    <tr>\n",
       "      <th>0</th>\n",
       "      <td>ABW</td>\n",
       "      <td>Aruba</td>\n",
       "      <td>Aruba</td>\n",
       "      <td>Aruba</td>\n",
       "      <td>AW</td>\n",
       "      <td>Aruban florin</td>\n",
       "      <td>SNA data for 2000-2011 are updated from official government statistics; 1994-1999 from UN databa...</td>\n",
       "      <td>Latin America &amp; Caribbean</td>\n",
       "      <td>High income</td>\n",
       "      <td>AW</td>\n",
       "      <td>2000</td>\n",
       "      <td>NaN</td>\n",
       "      <td>Value added at basic prices (VAB)</td>\n",
       "      <td>NaN</td>\n",
       "      <td>NaN</td>\n",
       "      <td>Country uses the 1993 System of National Accounts methodology.</td>\n",
       "      <td>NaN</td>\n",
       "      <td>2011</td>\n",
       "      <td>IMF Balance of Payments Manual, 6th edition.</td>\n",
       "      <td>NaN</td>\n",
       "      <td>General trade system</td>\n",
       "      <td>NaN</td>\n",
       "      <td>NaN</td>\n",
       "      <td>2010</td>\n",
       "      <td>NaN</td>\n",
       "      <td>NaN</td>\n",
       "      <td>Yes</td>\n",
       "      <td>NaN</td>\n",
       "      <td>NaN</td>\n",
       "      <td>2015.0</td>\n",
       "      <td>NaN</td>\n",
       "      <td>NaN</td>\n",
       "    </tr>\n",
       "    <tr>\n",
       "      <th>1</th>\n",
       "      <td>AFG</td>\n",
       "      <td>Afghanistan</td>\n",
       "      <td>Afghanistan</td>\n",
       "      <td>Islamic State of Afghanistan</td>\n",
       "      <td>AF</td>\n",
       "      <td>Afghan afghani</td>\n",
       "      <td>Fiscal year end: March 20; reporting period for national accounts data is calendar year, estimat...</td>\n",
       "      <td>South Asia</td>\n",
       "      <td>Low income</td>\n",
       "      <td>AF</td>\n",
       "      <td>2002/03</td>\n",
       "      <td>NaN</td>\n",
       "      <td>Value added at basic prices (VAB)</td>\n",
       "      <td>IDA</td>\n",
       "      <td>HIPC</td>\n",
       "      <td>Country uses the 1993 System of National Accounts methodology.</td>\n",
       "      <td>NaN</td>\n",
       "      <td>NaN</td>\n",
       "      <td>IMF Balance of Payments Manual, 6th edition.</td>\n",
       "      <td>Actual</td>\n",
       "      <td>General trade system</td>\n",
       "      <td>Consolidated central government</td>\n",
       "      <td>Enhanced General Data Dissemination System (e-GDDS)</td>\n",
       "      <td>1979</td>\n",
       "      <td>Demographic and Health Survey, 2015</td>\n",
       "      <td>Integrated household survey (IHS), 2011</td>\n",
       "      <td>NaN</td>\n",
       "      <td>NaN</td>\n",
       "      <td>NaN</td>\n",
       "      <td>2015.0</td>\n",
       "      <td>2000.0</td>\n",
       "      <td>NaN</td>\n",
       "    </tr>\n",
       "    <tr>\n",
       "      <th>2</th>\n",
       "      <td>AGO</td>\n",
       "      <td>Angola</td>\n",
       "      <td>Angola</td>\n",
       "      <td>People's Republic of Angola</td>\n",
       "      <td>AO</td>\n",
       "      <td>Angolan kwanza</td>\n",
       "      <td>NaN</td>\n",
       "      <td>Sub-Saharan Africa</td>\n",
       "      <td>Lower middle income</td>\n",
       "      <td>AO</td>\n",
       "      <td>2002</td>\n",
       "      <td>NaN</td>\n",
       "      <td>Value added at producer prices (VAP)</td>\n",
       "      <td>IBRD</td>\n",
       "      <td>NaN</td>\n",
       "      <td>Country uses the 1993 System of National Accounts methodology.</td>\n",
       "      <td>1991–96</td>\n",
       "      <td>2011</td>\n",
       "      <td>IMF Balance of Payments Manual, 6th edition.</td>\n",
       "      <td>Actual</td>\n",
       "      <td>Special trade system</td>\n",
       "      <td>Budgetary central government</td>\n",
       "      <td>Enhanced General Data Dissemination System (e-GDDS)</td>\n",
       "      <td>2014</td>\n",
       "      <td>Demographic and Health Survey, 2015/16</td>\n",
       "      <td>Integrated household survey (IHS), 2008/09</td>\n",
       "      <td>NaN</td>\n",
       "      <td>NaN</td>\n",
       "      <td>NaN</td>\n",
       "      <td>2015.0</td>\n",
       "      <td>2005.0</td>\n",
       "      <td>NaN</td>\n",
       "    </tr>\n",
       "  </tbody>\n",
       "</table>\n",
       "</div>"
      ],
      "text/plain": [
       "  Country Code   Short Name   Table Name                     Long Name  \\\n",
       "0          ABW        Aruba        Aruba                         Aruba   \n",
       "1          AFG  Afghanistan  Afghanistan  Islamic State of Afghanistan   \n",
       "2          AGO       Angola       Angola   People's Republic of Angola   \n",
       "\n",
       "  2-alpha code   Currency Unit  \\\n",
       "0           AW   Aruban florin   \n",
       "1           AF  Afghan afghani   \n",
       "2           AO  Angolan kwanza   \n",
       "\n",
       "                                                                                         Special Notes  \\\n",
       "0  SNA data for 2000-2011 are updated from official government statistics; 1994-1999 from UN databa...   \n",
       "1  Fiscal year end: March 20; reporting period for national accounts data is calendar year, estimat...   \n",
       "2                                                                                                  NaN   \n",
       "\n",
       "                      Region         Income Group WB-2 code  \\\n",
       "0  Latin America & Caribbean          High income        AW   \n",
       "1                 South Asia           Low income        AF   \n",
       "2         Sub-Saharan Africa  Lower middle income        AO   \n",
       "\n",
       "  National accounts base year  National accounts reference year  \\\n",
       "0                        2000                               NaN   \n",
       "1                     2002/03                               NaN   \n",
       "2                        2002                               NaN   \n",
       "\n",
       "                    SNA price valuation Lending category Other groups  \\\n",
       "0     Value added at basic prices (VAB)              NaN          NaN   \n",
       "1     Value added at basic prices (VAB)              IDA         HIPC   \n",
       "2  Value added at producer prices (VAP)             IBRD          NaN   \n",
       "\n",
       "                                      System of National Accounts  \\\n",
       "0  Country uses the 1993 System of National Accounts methodology.   \n",
       "1  Country uses the 1993 System of National Accounts methodology.   \n",
       "2  Country uses the 1993 System of National Accounts methodology.   \n",
       "\n",
       "  Alternative conversion factor PPP survey year  \\\n",
       "0                           NaN            2011   \n",
       "1                           NaN             NaN   \n",
       "2                       1991–96            2011   \n",
       "\n",
       "              Balance of Payments Manual in use  \\\n",
       "0  IMF Balance of Payments Manual, 6th edition.   \n",
       "1  IMF Balance of Payments Manual, 6th edition.   \n",
       "2  IMF Balance of Payments Manual, 6th edition.   \n",
       "\n",
       "  External debt Reporting status       System of trade  \\\n",
       "0                            NaN  General trade system   \n",
       "1                         Actual  General trade system   \n",
       "2                         Actual  Special trade system   \n",
       "\n",
       "     Government Accounting concept  \\\n",
       "0                              NaN   \n",
       "1  Consolidated central government   \n",
       "2     Budgetary central government   \n",
       "\n",
       "                       IMF data dissemination standard  \\\n",
       "0                                                  NaN   \n",
       "1  Enhanced General Data Dissemination System (e-GDDS)   \n",
       "2  Enhanced General Data Dissemination System (e-GDDS)   \n",
       "\n",
       "  Latest population census                 Latest household survey  \\\n",
       "0                     2010                                     NaN   \n",
       "1                     1979     Demographic and Health Survey, 2015   \n",
       "2                     2014  Demographic and Health Survey, 2015/16   \n",
       "\n",
       "  Source of most recent Income and expenditure data  \\\n",
       "0                                               NaN   \n",
       "1           Integrated household survey (IHS), 2011   \n",
       "2        Integrated household survey (IHS), 2008/09   \n",
       "\n",
       "  Vital registration complete Latest agricultural census  \\\n",
       "0                         Yes                        NaN   \n",
       "1                         NaN                        NaN   \n",
       "2                         NaN                        NaN   \n",
       "\n",
       "   Latest industrial data  Latest trade data  Latest water withdrawal data  \\\n",
       "0                     NaN             2015.0                           NaN   \n",
       "1                     NaN             2015.0                        2000.0   \n",
       "2                     NaN             2015.0                        2005.0   \n",
       "\n",
       "   Unnamed: 31  \n",
       "0          NaN  \n",
       "1          NaN  \n",
       "2          NaN  "
      ]
     },
     "execution_count": 15,
     "metadata": {},
     "output_type": "execute_result"
    }
   ],
   "source": [
    "# Print the first 3 rows of WDICountry\n",
    "df_country.head(3)"
   ]
  },
  {
   "cell_type": "code",
   "execution_count": 16,
   "metadata": {},
   "outputs": [
    {
     "name": "stdout",
     "output_type": "stream",
     "text": [
      "df_country has 32 columns\n"
     ]
    }
   ],
   "source": [
    "# Using .columns, how many columns does WDICountry have?\n",
    "print('df_country has {} columns'.format(len(df_country.columns)))"
   ]
  },
  {
   "cell_type": "code",
   "execution_count": 17,
   "metadata": {},
   "outputs": [
    {
     "name": "stdout",
     "output_type": "stream",
     "text": [
      "df_country has 4 columns\n"
     ]
    }
   ],
   "source": [
    "# We'll only keep a few columns: ['Country Code','Short Name','Region','Income Group']\n",
    "# Overwrite df_country with a new dataframe containing only these columns\n",
    "# Print out the statement 'df_country has {} columns' using .format to confirm that there are only 4 columns\n",
    "df_country = df_country.loc[:,['Country Code','Short Name','Region','Income Group']]\n",
    "print('df_country has {} columns'.format(df_country.shape[1]))"
   ]
  },
  {
   "cell_type": "code",
   "execution_count": 18,
   "metadata": {},
   "outputs": [
    {
     "name": "stdout",
     "output_type": "stream",
     "text": [
      "<class 'pandas.core.frame.DataFrame'>\n",
      "RangeIndex: 263 entries, 0 to 262\n",
      "Data columns (total 4 columns):\n",
      "Country Code    263 non-null object\n",
      "Short Name      263 non-null object\n",
      "Region          217 non-null object\n",
      "Income Group    217 non-null object\n",
      "dtypes: object(4)\n",
      "memory usage: 8.3+ KB\n"
     ]
    }
   ],
   "source": [
    "# Examine df_country using .info\n",
    "df_country.info()"
   ]
  },
  {
   "cell_type": "code",
   "execution_count": 19,
   "metadata": {},
   "outputs": [
    {
     "name": "stdout",
     "output_type": "stream",
     "text": [
      "there are 46 rows with missing data, 0.17 of the dataset\n"
     ]
    }
   ],
   "source": [
    "# There are some rows with missing Region and Income Group.\n",
    "# Print out both the number and proportion of rows with missing Region information\n",
    "n_missing = sum(df_country.Region.isnull())\n",
    "prop_missing = n_missing / len(df_country)\n",
    "print('there are {:} rows with missing data, {:0.2} of the dataset'.format(n_missing,prop_missing))"
   ]
  },
  {
   "cell_type": "code",
   "execution_count": 20,
   "metadata": {},
   "outputs": [
    {
     "name": "stdout",
     "output_type": "stream",
     "text": [
      "<class 'pandas.core.frame.DataFrame'>\n",
      "Int64Index: 217 entries, 0 to 262\n",
      "Data columns (total 4 columns):\n",
      "Country Code    217 non-null object\n",
      "Short Name      217 non-null object\n",
      "Region          217 non-null object\n",
      "Income Group    217 non-null object\n",
      "dtypes: object(4)\n",
      "memory usage: 8.5+ KB\n"
     ]
    }
   ],
   "source": [
    "# Drop the rows of df_country with any null values (using inplace=True)\n",
    "# Use .info to make sure there a no longer null values\n",
    "df_country.dropna(inplace=True)\n",
    "df_country.info()"
   ]
  },
  {
   "cell_type": "code",
   "execution_count": 21,
   "metadata": {},
   "outputs": [],
   "source": [
    "# Each row of df_country should be a separate country\n",
    "# Assert that there are no duplicates (use len and drop_duplicates)\n",
    "# hint: df_country should be the same length before and after dropping duplicate rows\n",
    "assert len(df_country.drop_duplicates()) == len(df_country)"
   ]
  },
  {
   "cell_type": "code",
   "execution_count": 22,
   "metadata": {},
   "outputs": [],
   "source": [
    "# Assert that 'Country Code' is unique (use len and unique)\n",
    "# hist: the number of unique country codes should be the same length as the dataframe\n",
    "assert len(df_country.loc[:,'Country Code'].unique()) == len(df_country)"
   ]
  },
  {
   "cell_type": "code",
   "execution_count": 23,
   "metadata": {},
   "outputs": [
    {
     "data": {
      "text/html": [
       "<div>\n",
       "<style scoped>\n",
       "    .dataframe tbody tr th:only-of-type {\n",
       "        vertical-align: middle;\n",
       "    }\n",
       "\n",
       "    .dataframe tbody tr th {\n",
       "        vertical-align: top;\n",
       "    }\n",
       "\n",
       "    .dataframe thead th {\n",
       "        text-align: right;\n",
       "    }\n",
       "</style>\n",
       "<table border=\"1\" class=\"dataframe\">\n",
       "  <thead>\n",
       "    <tr style=\"text-align: right;\">\n",
       "      <th></th>\n",
       "      <th>Short Name</th>\n",
       "      <th>Region</th>\n",
       "      <th>Income Group</th>\n",
       "    </tr>\n",
       "    <tr>\n",
       "      <th>Country Code</th>\n",
       "      <th></th>\n",
       "      <th></th>\n",
       "      <th></th>\n",
       "    </tr>\n",
       "  </thead>\n",
       "  <tbody>\n",
       "    <tr>\n",
       "      <th>ABW</th>\n",
       "      <td>Aruba</td>\n",
       "      <td>Latin America &amp; Caribbean</td>\n",
       "      <td>High income</td>\n",
       "    </tr>\n",
       "    <tr>\n",
       "      <th>AFG</th>\n",
       "      <td>Afghanistan</td>\n",
       "      <td>South Asia</td>\n",
       "      <td>Low income</td>\n",
       "    </tr>\n",
       "    <tr>\n",
       "      <th>AGO</th>\n",
       "      <td>Angola</td>\n",
       "      <td>Sub-Saharan Africa</td>\n",
       "      <td>Lower middle income</td>\n",
       "    </tr>\n",
       "    <tr>\n",
       "      <th>ALB</th>\n",
       "      <td>Albania</td>\n",
       "      <td>Europe &amp; Central Asia</td>\n",
       "      <td>Upper middle income</td>\n",
       "    </tr>\n",
       "    <tr>\n",
       "      <th>AND</th>\n",
       "      <td>Andorra</td>\n",
       "      <td>Europe &amp; Central Asia</td>\n",
       "      <td>High income</td>\n",
       "    </tr>\n",
       "  </tbody>\n",
       "</table>\n",
       "</div>"
      ],
      "text/plain": [
       "               Short Name                     Region         Income Group\n",
       "Country Code                                                             \n",
       "ABW                 Aruba  Latin America & Caribbean          High income\n",
       "AFG           Afghanistan                 South Asia           Low income\n",
       "AGO                Angola         Sub-Saharan Africa  Lower middle income\n",
       "ALB               Albania      Europe & Central Asia  Upper middle income\n",
       "AND               Andorra      Europe & Central Asia          High income"
      ]
     },
     "execution_count": 23,
     "metadata": {},
     "output_type": "execute_result"
    }
   ],
   "source": [
    "# Set the index of df_country to be 'Country Code' (inplace) and display the first 5 rows\n",
    "df_country.set_index('Country Code', inplace=True)\n",
    "df_country.head()"
   ]
  },
  {
   "cell_type": "markdown",
   "metadata": {},
   "source": [
    "---"
   ]
  },
  {
   "cell_type": "markdown",
   "metadata": {},
   "source": [
    "### Part 2b: Munge WDIData"
   ]
  },
  {
   "cell_type": "code",
   "execution_count": null,
   "metadata": {},
   "outputs": [],
   "source": [
    "# Now we'll load the other country data we're interested in.\n",
    "# Read csv '../data/WDIData.csv.zip' into df_data\n",
    "# Note: \n",
    "#  Since this file is large it is stored as a zip.\n",
    "#  You don't need to decompress the zip file first, pandas will handle this for you.\n",
    "df_data = pd.read_csv('../data/WDIData.csv.zip')"
   ]
  },
  {
   "cell_type": "code",
   "execution_count": null,
   "metadata": {
    "scrolled": true
   },
   "outputs": [],
   "source": [
    "# Display .info for df_data\n",
    "# Note that the data is in long format instead of wide format\n",
    "df_data.info()"
   ]
  },
  {
   "cell_type": "code",
   "execution_count": null,
   "metadata": {},
   "outputs": [],
   "source": [
    "# Use pprint.pprint to print a list of the unique values in Indicator Name\n",
    "# These are all of the available data points in this file, which is why it's so large.\n",
    "# (to see the difference, try using the standard 'print' first)\n",
    "pprint.pprint(list(df_data.loc[:,'Indicator Name'].unique()))"
   ]
  },
  {
   "cell_type": "code",
   "execution_count": null,
   "metadata": {},
   "outputs": [],
   "source": [
    "# We'll only keep a few of these indicators.\n",
    "# Create a list of indicators to keep that includes these indicators:\n",
    "# 'Employment to population ratio, 15+, female (%) (modeled ILO estimate)','GDP (constant 2010 US$)','Population, total','Population density (people per sq. km of land area)','Unemployment, total (% of total labor force) (national estimate)'\n",
    "data_indicators_to_keep = ['Employment to population ratio, 15+, female (%) (modeled ILO estimate)','GDP (constant 2010 US$)','Population, total','Population density (people per sq. km of land area)','Unemployment, total (% of total labor force) (national estimate)']"
   ]
  },
  {
   "cell_type": "code",
   "execution_count": null,
   "metadata": {},
   "outputs": [],
   "source": [
    "# The columns of WIData contain information for each year.\n",
    "# We'll look at only year 2016\n",
    "# Create a list of columns to keep that includes these columns:\n",
    "# 'Country Code','Indicator Name','2016'\n",
    "data_columns_to_keep = ['Country Code','Indicator Name','2016']"
   ]
  },
  {
   "cell_type": "code",
   "execution_count": null,
   "metadata": {},
   "outputs": [],
   "source": [
    "# Overwrite df_data witha dataframe containing only: \n",
    "#  the rows whose 'Indicator Name' is in data_indicators_to_keep (use .isin) and \n",
    "#  the columns in data_columns_to_keep\n",
    "df_data = df_data.loc[df_data['Indicator Name'].isin(data_indicators_to_keep),data_columns_to_keep]"
   ]
  },
  {
   "cell_type": "code",
   "execution_count": null,
   "metadata": {},
   "outputs": [],
   "source": [
    "# Display the first 5 rows of df_data\n",
    "df_data.head()"
   ]
  },
  {
   "cell_type": "code",
   "execution_count": null,
   "metadata": {},
   "outputs": [],
   "source": [
    "# Into df_data_pivot, pivot df_data with index 'Country Code', columns 'Indicator Name' and values '2016'\n",
    "# Display the first 5 rows of df_data_pivot\n",
    "df_data_pivot = df_data.pivot(index='Country Code',columns='Indicator Name',values='2016')\n",
    "df_data_pivot.head()"
   ]
  },
  {
   "cell_type": "markdown",
   "metadata": {},
   "source": [
    "---"
   ]
  },
  {
   "cell_type": "markdown",
   "metadata": {},
   "source": [
    "### Part 2c: Join the two datasets"
   ]
  },
  {
   "cell_type": "code",
   "execution_count": null,
   "metadata": {},
   "outputs": [],
   "source": [
    "# Importantly, df_country and df_data_pivot now have the the same index values.\n",
    "# To see this, use .index to print out the first 5 index values in df_country and df_data\n",
    "print(df_country.index[:5])\n",
    "print(df_data_pivot.index[:5])"
   ]
  },
  {
   "cell_type": "code",
   "execution_count": null,
   "metadata": {},
   "outputs": [],
   "source": [
    "# Into df_wdi put the inner join of df_country with df_data_pivot using .join\n",
    "# Display the first 5 rows\n",
    "df_wdi = df_country.join(df_data_pivot, how='inner')\n",
    "df_wdi.head()"
   ]
  },
  {
   "cell_type": "code",
   "execution_count": null,
   "metadata": {},
   "outputs": [],
   "source": [
    "# Assert that the number of rows matches the number of unique 'Short Name'\n",
    "assert len(df_wdi) == len(df_wdi.loc[:,'Short Name'].unique())"
   ]
  },
  {
   "cell_type": "markdown",
   "metadata": {},
   "source": [
    "---"
   ]
  },
  {
   "cell_type": "markdown",
   "metadata": {},
   "source": [
    "### Part 2d: Analysis and Visualization"
   ]
  },
  {
   "cell_type": "code",
   "execution_count": null,
   "metadata": {},
   "outputs": [],
   "source": [
    "# Display the number of countries per region seen in df_wdi (use .value_counts)\n",
    "df_wdi['Region'].value_counts()"
   ]
  },
  {
   "cell_type": "code",
   "execution_count": null,
   "metadata": {},
   "outputs": [],
   "source": [
    "# What proportion of our dataset is made up by each region?\n",
    "# Hint: Divide the previous counts by the number of rows.\n",
    "df_wdi['Region'].value_counts() / len(df_wdi)"
   ]
  },
  {
   "cell_type": "code",
   "execution_count": null,
   "metadata": {},
   "outputs": [],
   "source": [
    "# Display the summary stats (means and quartiles) for 'Employment to population ratio, 15+, female (%) (modeled ILO estimate)'\n",
    "df_wdi['Employment to population ratio, 15+, female (%) (modeled ILO estimate)'].describe()"
   ]
  },
  {
   "cell_type": "code",
   "execution_count": null,
   "metadata": {},
   "outputs": [],
   "source": [
    "# Let's rename that column to something shorter.\n",
    "# Use .rename to rename \n",
    "#  'Employment to population ratio, 15+, female (%) (modeled ILO estimate)' \n",
    "#  to \n",
    "#  'Female Employment Ratio'\n",
    "# Display the columns to confirm.\n",
    "df_wdi.rename({'Employment to population ratio, 15+, female (%) (modeled ILO estimate)':'Female Employment To Population Ratio'},\n",
    "              axis='columns',\n",
    "              inplace=True\n",
    "             )\n",
    "df_wdi.columns"
   ]
  },
  {
   "cell_type": "code",
   "execution_count": null,
   "metadata": {},
   "outputs": [],
   "source": [
    "# Use seaborn .catplot to display box plots of 'Female Employment to Population Ratio' for each Region\n",
    "# Since the region names are long, we'll use horizontal box plots.\n",
    "# Put 'Female Employment To Population Ratio' on the x-axis and 'Region' on the y-axis.\n",
    "# Set 'aspect' to 2 to widen the plot\n",
    "_ = sns.catplot(x='Female Employment To Population Ratio',\n",
    "                y='Region',\n",
    "                data=df_wdi,\n",
    "                kind='box',\n",
    "                aspect=2\n",
    "               )"
   ]
  }
 ],
 "metadata": {
  "kernelspec": {
   "display_name": "py36",
   "language": "python",
   "name": "py36"
  },
  "language_info": {
   "codemirror_mode": {
    "name": "ipython",
    "version": 3
   },
   "file_extension": ".py",
   "mimetype": "text/x-python",
   "name": "python",
   "nbconvert_exporter": "python",
   "pygments_lexer": "ipython3",
   "version": "3.6.8"
  }
 },
 "nbformat": 4,
 "nbformat_minor": 2
}
